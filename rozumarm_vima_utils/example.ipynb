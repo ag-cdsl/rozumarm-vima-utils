{
 "cells": [
  {
   "cell_type": "code",
   "execution_count": null,
   "metadata": {},
   "outputs": [],
   "source": [
    "import numpy as np\n",
    "import matplotlib.pyplot as plt\n",
    "\n",
    "from scene_renderer import VIMASceneRenderer\n",
    "from transform import rf_tf_v2r, map_tf_repr"
   ]
  },
  {
   "cell_type": "code",
   "execution_count": null,
   "metadata": {},
   "outputs": [],
   "source": [
    "r = VIMASceneRenderer(task_name='sweep_without_exceeding')\n",
    "\n",
    "# reset scene to sample new set of textures / number of cubes\n",
    "r.reset(exact_num_swept_objects=1)"
   ]
  },
  {
   "cell_type": "code",
   "execution_count": null,
   "metadata": {},
   "outputs": [],
   "source": [
    "# render scene with cubes being in specified positions\n",
    "\n",
    "# 2 tuples (pos, quat) for 1 swept cube and 1 distractor\n",
    "cubes_posquats = [\n",
    "    ((-0.55, 0), (0, 0, 0, 1)),\n",
    "    ((-0.3, 0.3), (0, 0, 0, 1))\n",
    "]\n",
    "\n",
    "a, b = r.render_scene(cubes_posquats)                 \n",
    "plt.imshow(np.vstack((b, a)))"
   ]
  },
  {
   "cell_type": "code",
   "execution_count": null,
   "metadata": {},
   "outputs": [],
   "source": [
    "# get prompt for current task instance\n",
    "print(r.env.prompt)\n",
    "print(r.env.prompt_assets.keys())"
   ]
  },
  {
   "cell_type": "code",
   "execution_count": null,
   "metadata": {},
   "outputs": [],
   "source": [
    "# transform actions from VIMA model output to rozum-arm input\n",
    "vec, quat = [1, 0], [0, 0, 0, 1]\n",
    "print(rf_tf_v2r(vec))\n",
    "print(map_tf_repr(quat))"
   ]
  }
 ],
 "metadata": {
  "kernelspec": {
   "display_name": "vima-utils-test",
   "language": "python",
   "name": "python3"
  },
  "language_info": {
   "codemirror_mode": {
    "name": "ipython",
    "version": 3
   },
   "file_extension": ".py",
   "mimetype": "text/x-python",
   "name": "python",
   "nbconvert_exporter": "python",
   "pygments_lexer": "ipython3",
   "version": "3.10.9"
  },
  "orig_nbformat": 4,
  "vscode": {
   "interpreter": {
    "hash": "81df6e05bbbcc84d4ddc2e94644a79101af8628eefd9b9b3fcb068447860dddc"
   }
  }
 },
 "nbformat": 4,
 "nbformat_minor": 2
}
