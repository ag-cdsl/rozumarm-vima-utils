{
 "cells": [
  {
   "cell_type": "code",
   "execution_count": null,
   "metadata": {},
   "outputs": [],
   "source": [
    "%load_ext autoreload\n",
    "%autoreload 2"
   ]
  },
  {
   "cell_type": "code",
   "execution_count": null,
   "metadata": {},
   "outputs": [],
   "source": [
    "import pybullet as p\n",
    "\n",
    "from rozumarm_vima_utils.scene_renderer import VIMASceneRenderer"
   ]
  },
  {
   "cell_type": "code",
   "execution_count": null,
   "metadata": {},
   "outputs": [],
   "source": [
    "r = VIMASceneRenderer('sweep_without_exceeding')"
   ]
  },
  {
   "cell_type": "code",
   "execution_count": null,
   "metadata": {},
   "outputs": [],
   "source": [
    "r.reset()"
   ]
  },
  {
   "cell_type": "code",
   "execution_count": null,
   "metadata": {},
   "outputs": [],
   "source": [
    "p.getNumBodies()"
   ]
  },
  {
   "cell_type": "code",
   "execution_count": null,
   "metadata": {},
   "outputs": [],
   "source": [
    "UR5_BODY_ID = 2\n",
    "CLIENT_ID = 0\n",
    "info = p.getBodyInfo(UR5_BODY_ID, physicsClientId=CLIENT_ID)\n",
    "assert info[1] == b'ur5'"
   ]
  },
  {
   "cell_type": "code",
   "execution_count": null,
   "metadata": {},
   "outputs": [],
   "source": [
    "for i in range(12):\n",
    "    info = p.getBodyInfo(i, physicsClientId=CLIENT_ID)\n",
    "    print(info)"
   ]
  },
  {
   "cell_type": "code",
   "execution_count": null,
   "metadata": {},
   "outputs": [],
   "source": [
    "p.getNumJoints(\n",
    "    bodyUniqueId=UR5_BODY_ID,\n",
    "    physicsClientId=CLIENT_ID\n",
    ")"
   ]
  },
  {
   "cell_type": "code",
   "execution_count": null,
   "metadata": {},
   "outputs": [],
   "source": [
    "joint_angles = p.calculateInverseKinematics(\n",
    "    bodyUniqueId=UR5_BODY_ID,\n",
    "    endEffectorLinkIndex=6,\n",
    "    targetPosition=[0.3, 0, 0.3],\n",
    "    targetOrientation=[0, 0, 0, 1],\n",
    "    jointDamping=[0.1] * 6,\n",
    "    solver=0,\n",
    "    maxNumIterations=100,\n",
    "    residualThreshold=0.01\n",
    ")\n",
    "joint_angles"
   ]
  },
  {
   "cell_type": "code",
   "execution_count": null,
   "metadata": {},
   "outputs": [],
   "source": [
    "for i, v in zip(range(10), joint_angles):\n",
    "    p.resetJointState(\n",
    "        bodyUniqueId=UR5_BODY_ID,\n",
    "        jointIndex=i,\n",
    "        targetValue=v,\n",
    "        physicsClientId=CLIENT_ID\n",
    "    )"
   ]
  }
 ],
 "metadata": {
  "language_info": {
   "name": "python"
  },
  "orig_nbformat": 4
 },
 "nbformat": 4,
 "nbformat_minor": 2
}
