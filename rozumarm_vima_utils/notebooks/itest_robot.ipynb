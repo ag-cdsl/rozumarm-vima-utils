{
 "cells": [
  {
   "cell_type": "code",
   "execution_count": null,
   "metadata": {},
   "outputs": [],
   "source": [
    "%load_ext autoreload\n",
    "%autoreload 2"
   ]
  },
  {
   "cell_type": "code",
   "execution_count": null,
   "metadata": {},
   "outputs": [],
   "source": [
    "import math\n",
    "\n",
    "from scipy.spatial.transform import Rotation\n",
    "\n",
    "from rozumarm_vima_utils.transform import (\n",
    "    map_tf_repr,\n",
    "    map_gripper_rf\n",
    ")"
   ]
  },
  {
   "cell_type": "code",
   "execution_count": null,
   "metadata": {},
   "outputs": [],
   "source": [
    "robot = ..."
   ]
  },
  {
   "cell_type": "code",
   "execution_count": null,
   "metadata": {},
   "outputs": [],
   "source": [
    "# eef guiding\n",
    "pos = robot.api.get_position()\n",
    "point = [getattr(pos.point, axis_name) for axis_name in ('x', 'y', 'z')]\n",
    "rot = [getattr(pos.rotation, angle_name) for angle_name in ('roll', 'pitch', 'yaw')]\n",
    "\n",
    "rot = [-math.pi, 0, 0]\n",
    "\n",
    "# point[0] -= 0.0005\n",
    "# point[1] += 0.005\n",
    "# point[2] -= 0.01\n",
    "\n",
    "robot._move_tcp(point, rot)"
   ]
  },
  {
   "cell_type": "code",
   "execution_count": null,
   "metadata": {},
   "outputs": [],
   "source": [
    "# test eef orientation during swipe\n",
    "vima_quat = robot.get_swipe_quat([0.0, 0.0], [0.1, 0.1])\n",
    "vima_angles = Rotation.from_quat(vima_quat).as_euler('XYZ')\n",
    "print(f'Desired rotation in VIMA-rf: {vima_angles}')\n",
    "\n",
    "rozum_quat = map_tf_repr(map_gripper_rf(vima_quat))\n",
    "rozum_angles = Rotation.from_quat(rozum_quat).as_euler('XYZ')\n",
    "print(f'Desired rotation in Rozum-rf: {rozum_angles}')"
   ]
  }
 ],
 "metadata": {
  "language_info": {
   "name": "python"
  },
  "orig_nbformat": 4
 },
 "nbformat": 4,
 "nbformat_minor": 2
}
