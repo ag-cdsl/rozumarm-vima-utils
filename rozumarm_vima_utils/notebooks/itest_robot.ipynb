{
 "cells": [
  {
   "cell_type": "code",
   "execution_count": null,
   "metadata": {},
   "outputs": [],
   "source": [
    "%load_ext autoreload\n",
    "%autoreload 2"
   ]
  },
  {
   "cell_type": "markdown",
   "metadata": {},
   "source": [
    "### vis trajs"
   ]
  },
  {
   "cell_type": "code",
   "execution_count": null,
   "metadata": {},
   "outputs": [],
   "source": [
    "import pickle\n",
    "import matplotlib.pyplot as plt"
   ]
  },
  {
   "cell_type": "code",
   "execution_count": null,
   "metadata": {},
   "outputs": [],
   "source": [
    "with open('../../../rozumarm-dataset/2023-07-27T16:14:09.956396.traj', 'rb') as f:\n",
    "    traj = pickle.load(f)"
   ]
  },
  {
   "cell_type": "code",
   "execution_count": null,
   "metadata": {},
   "outputs": [],
   "source": [
    "def process_sim_image(img):\n",
    "    return img.transpose(1, 2, 0)\n",
    "\n",
    "\n",
    "def process_real_image(img):\n",
    "    return img.transpose(1, 2, 0)[..., ::-1]\n",
    "\n",
    "\n",
    "def visualize_transition(t):\n",
    "    text_prompt = t[\"text_prompt\"]\n",
    "\n",
    "    fig, axs = plt.subplots(3, 2)#, figsize=(12, 16))\n",
    "    fig.subplots_adjust(hspace=0.3)\n",
    "\n",
    "    fig.suptitle(text_prompt)\n",
    "\n",
    "    \n",
    "    axs[0, 0].imshow(process_sim_image(t[\"sim_before_action\"][\"rgb\"][\"top\"]))\n",
    "    axs[0, 1].imshow(process_sim_image(t[\"sim_after_action\"][\"rgb\"][\"top\"]))\n",
    "    axs[0, 1].set_title(f\"success: {t['success_after_sim_swipe']}\")\n",
    "\n",
    "    axs[1, 0].imshow(process_real_image(t[\"real_before_action\"][\"rgb\"][\"top\"]))\n",
    "    axs[1, 1].imshow(process_real_image(t[\"real_after_action\"][\"rgb\"][\"top\"]))\n",
    "    axs[1, 1].set_title(f\"success: {t['success_after_real_swipe']}, done: {t['done']}\")\n",
    "\n",
    "    # prompt assets\n",
    "    swept_obj_images = t[\"prompt_assets\"][\"swept_obj\"][\"rgb\"]\n",
    "    axs[2, 0].imshow(process_sim_image(swept_obj_images[\"top\"]))\n",
    "    axs[2, 0].set_title(\"prompt.swept_obj.top\")\n",
    "\n",
    "    axs[2, 1].imshow(process_sim_image(swept_obj_images[\"front\"]))\n",
    "    axs[2, 1].set_title(\"prompt.swept_obj.front\")\n",
    "\n",
    "    for i in range(3):\n",
    "        for j in range(2):\n",
    "            axs[i, j].axis('off')\n",
    "    return fig\n",
    "\n",
    "fig = visualize_transition(traj[\"step_1\"])"
   ]
  },
  {
   "cell_type": "code",
   "execution_count": null,
   "metadata": {},
   "outputs": [],
   "source": [
    "fig.savefig('vima_failure_wrong_color.jpg', dpi=600, bbox_inches='tight')"
   ]
  },
  {
   "cell_type": "markdown",
   "metadata": {},
   "source": [
    "---"
   ]
  },
  {
   "cell_type": "code",
   "execution_count": null,
   "metadata": {},
   "outputs": [],
   "source": [
    "import math\n",
    "\n",
    "import numpy as np\n",
    "from scipy.spatial.transform import Rotation\n",
    "\n",
    "from rozumarm_vima_utils.transform import (\n",
    "    map_tf_repr,\n",
    "    map_gripper_rf\n",
    ")"
   ]
  },
  {
   "cell_type": "code",
   "execution_count": null,
   "metadata": {},
   "outputs": [],
   "source": [
    "from rozumarm_vima_utils.robot import RozumArm, HOME_TCP_ANGLES, Z_PREP_LVL"
   ]
  },
  {
   "cell_type": "code",
   "execution_count": null,
   "metadata": {},
   "outputs": [],
   "source": [
    "robot = RozumArm()"
   ]
  },
  {
   "cell_type": "code",
   "execution_count": null,
   "metadata": {},
   "outputs": [],
   "source": [
    "# robot.api.open_gripper()\n",
    "# robot.api.close_gripper()"
   ]
  },
  {
   "attachments": {},
   "cell_type": "markdown",
   "metadata": {},
   "source": [
    "### visit key points"
   ]
  },
  {
   "cell_type": "code",
   "execution_count": null,
   "metadata": {},
   "outputs": [],
   "source": [
    "from rozumarm_vima_utils.transform import rf_tf_c2r\n",
    "\n",
    "\n",
    "TABLE_FRAME_POINTS_FILEPATH = \"assets/aruco_corners_top.npy\"\n",
    "ROZUM_FRAME_POINTS_FILEPATH = \"assets/marker_points_in_rozum_rf_v1.npy\"\n",
    "\n",
    "\n",
    "key_points_crf = np.load(TABLE_FRAME_POINTS_FILEPATH)\n",
    "key_points_crf = key_points_crf[:, :2]\n",
    "key_points_rrf = np.load('assets/marker_points_in_rozum_rf_v2_synth.npy')\n",
    "\n",
    "transformed_cam_points = np.stack([rf_tf_c2r(v) for v in key_points_crf])"
   ]
  },
  {
   "cell_type": "code",
   "execution_count": null,
   "metadata": {},
   "outputs": [],
   "source": [
    "Z_BOT_BIAS = -0.085\n",
    "\n",
    "i = 0\n",
    "target_point = np.concatenate((key_points_rrf[i], [0.18 + 0.1 + Z_BOT_BIAS]))\n",
    "robot._move_tcp(target_point, HOME_TCP_ANGLES)"
   ]
  },
  {
   "cell_type": "code",
   "execution_count": null,
   "metadata": {},
   "outputs": [],
   "source": [
    "i = 3\n",
    "target_point = np.concatenate((transformed_cam_points[i], [0.18 + 0.1 + Z_BOT_BIAS]))\n",
    "robot._move_tcp(target_point, HOME_TCP_ANGLES)"
   ]
  },
  {
   "attachments": {},
   "cell_type": "markdown",
   "metadata": {},
   "source": [
    "### eef guiding"
   ]
  },
  {
   "cell_type": "code",
   "execution_count": null,
   "metadata": {},
   "outputs": [],
   "source": [
    "pos = robot.api.get_position()\n",
    "point = [getattr(pos.point, axis_name) for axis_name in ('x', 'y', 'z')]\n",
    "rot = [getattr(pos.rotation, angle_name) for angle_name in ('roll', 'pitch', 'yaw')]\n",
    "\n",
    "rot = [-math.pi, 0, 0]\n",
    "\n",
    "# point[0] -= 0.0005\n",
    "# point[1] += 0.005\n",
    "# point[2] -= 0.01\n",
    "\n",
    "robot._move_tcp(point, rot)"
   ]
  },
  {
   "cell_type": "markdown",
   "metadata": {},
   "source": [
    "### test eef orientation during swipe"
   ]
  },
  {
   "cell_type": "code",
   "execution_count": null,
   "metadata": {},
   "outputs": [],
   "source": [
    "vima_quat = robot.get_swipe_quat([0.0, 0.0], [0.1, 0.1])\n",
    "vima_angles = Rotation.from_quat(vima_quat).as_euler('XYZ')\n",
    "print(f'Desired rotation in VIMA-rf: {vima_angles}')\n",
    "\n",
    "rozum_quat = map_tf_repr(map_gripper_rf(vima_quat))\n",
    "rozum_angles = Rotation.from_quat(rozum_quat).as_euler('XYZ')\n",
    "print(f'Desired rotation in Rozum-rf: {rozum_angles}')"
   ]
  },
  {
   "attachments": {},
   "cell_type": "markdown",
   "metadata": {},
   "source": [
    "### compute transform error"
   ]
  },
  {
   "cell_type": "code",
   "execution_count": null,
   "metadata": {},
   "outputs": [],
   "source": [
    "import numpy as np\n",
    "from rozumarm_vima_utils.transform import rf_tf_c2r\n",
    "\n",
    "# v3 (synth alignment by 4.5 mm)\n",
    "TABLE_FRAME_POINTS_FILEPATH = \"../../assets/aruco_corners_top.npy\"\n",
    "ROZUM_FRAME_POINTS_FILEPATH = \"../../assets/marker_points_in_rozum_rf_v2_synth.npy\"\n",
    "\n",
    "key_points_crf = np.load(TABLE_FRAME_POINTS_FILEPATH)\n",
    "key_points_crf = key_points_crf[:, :2]\n",
    "key_points_rrf = np.load(ROZUM_FRAME_POINTS_FILEPATH)\n",
    "\n",
    "transformed_cam_points = np.stack([rf_tf_c2r(p) for p in key_points_crf])\n",
    "\n",
    "with np.printoptions(precision=2, suppress=True):\n",
    "    errors = np.linalg.norm(key_points_rrf - transformed_cam_points, axis=1)\n",
    "    print(f\"(mm): {errors * 1e3}\")"
   ]
  }
 ],
 "metadata": {
  "kernelspec": {
   "display_name": "vima-utils-test",
   "language": "python",
   "name": "python3"
  },
  "language_info": {
   "codemirror_mode": {
    "name": "ipython",
    "version": 3
   },
   "file_extension": ".py",
   "mimetype": "text/x-python",
   "name": "python",
   "nbconvert_exporter": "python",
   "pygments_lexer": "ipython3",
   "version": "3.10.10"
  },
  "orig_nbformat": 4,
  "vscode": {
   "interpreter": {
    "hash": "81df6e05bbbcc84d4ddc2e94644a79101af8628eefd9b9b3fcb068447860dddc"
   }
  }
 },
 "nbformat": 4,
 "nbformat_minor": 2
}
