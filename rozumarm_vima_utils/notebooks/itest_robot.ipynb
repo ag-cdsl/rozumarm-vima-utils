{
 "cells": [
  {
   "cell_type": "code",
   "execution_count": null,
   "metadata": {},
   "outputs": [],
   "source": [
    "%load_ext autoreload\n",
    "%autoreload 2"
   ]
  },
  {
   "cell_type": "code",
   "execution_count": null,
   "metadata": {},
   "outputs": [],
   "source": [
    "import math\n",
    "\n",
    "import numpy as np\n",
    "from scipy.spatial.transform import Rotation\n",
    "\n",
    "from rozumarm_vima_utils.transform import (\n",
    "    map_tf_repr,\n",
    "    map_gripper_rf\n",
    ")"
   ]
  },
  {
   "cell_type": "code",
   "execution_count": null,
   "metadata": {},
   "outputs": [],
   "source": [
    "from rozumarm_vima_utils.robot import RozumArm, HOME_TCP_ANGLES, Z_PREP_LVL"
   ]
  },
  {
   "cell_type": "code",
   "execution_count": null,
   "metadata": {},
   "outputs": [],
   "source": [
    "robot = RozumArm()"
   ]
  },
  {
   "cell_type": "code",
   "execution_count": null,
   "metadata": {},
   "outputs": [],
   "source": [
    "# robot.api.open_gripper()\n",
    "# robot.api.close_gripper()"
   ]
  },
  {
   "attachments": {},
   "cell_type": "markdown",
   "metadata": {},
   "source": [
    "### visit key points"
   ]
  },
  {
   "cell_type": "code",
   "execution_count": null,
   "metadata": {},
   "outputs": [],
   "source": [
    "from rozumarm_vima_utils.transform import rf_tf_c2r\n",
    "\n",
    "\n",
    "TABLE_FRAME_POINTS_FILEPATH = \"assets/aruco_corners_top.npy\"\n",
    "ROZUM_FRAME_POINTS_FILEPATH = \"assets/marker_points_in_rozum_rf_v1.npy\"\n",
    "\n",
    "\n",
    "key_points_crf = np.load(TABLE_FRAME_POINTS_FILEPATH)\n",
    "key_points_crf = key_points_crf[:, :2]\n",
    "key_points_rrf = np.load('assets/marker_points_in_rozum_rf_v2_synth.npy')\n",
    "\n",
    "transformed_cam_points = np.stack([rf_tf_c2r(v) for v in key_points_crf])"
   ]
  },
  {
   "cell_type": "code",
   "execution_count": null,
   "metadata": {},
   "outputs": [],
   "source": [
    "Z_BOT_BIAS = -0.085\n",
    "\n",
    "i = 0\n",
    "target_point = np.concatenate((key_points_rrf[i], [0.18 + 0.1 + Z_BOT_BIAS]))\n",
    "robot._move_tcp(target_point, HOME_TCP_ANGLES)"
   ]
  },
  {
   "cell_type": "code",
   "execution_count": null,
   "metadata": {},
   "outputs": [],
   "source": [
    "i = 3\n",
    "target_point = np.concatenate((transformed_cam_points[i], [0.18 + 0.1 + Z_BOT_BIAS]))\n",
    "robot._move_tcp(target_point, HOME_TCP_ANGLES)"
   ]
  },
  {
   "attachments": {},
   "cell_type": "markdown",
   "metadata": {},
   "source": [
    "### eef guiding"
   ]
  },
  {
   "cell_type": "code",
   "execution_count": null,
   "metadata": {},
   "outputs": [],
   "source": [
    "pos = robot.api.get_position()\n",
    "point = [getattr(pos.point, axis_name) for axis_name in ('x', 'y', 'z')]\n",
    "rot = [getattr(pos.rotation, angle_name) for angle_name in ('roll', 'pitch', 'yaw')]\n",
    "\n",
    "rot = [-math.pi, 0, 0]\n",
    "\n",
    "# point[0] -= 0.0005\n",
    "# point[1] += 0.005\n",
    "# point[2] -= 0.01\n",
    "\n",
    "robot._move_tcp(point, rot)"
   ]
  },
  {
   "cell_type": "markdown",
   "metadata": {},
   "source": [
    "### test eef orientation during swipe"
   ]
  },
  {
   "cell_type": "code",
   "execution_count": null,
   "metadata": {},
   "outputs": [],
   "source": [
    "vima_quat = robot.get_swipe_quat([0.0, 0.0], [0.1, 0.1])\n",
    "vima_angles = Rotation.from_quat(vima_quat).as_euler('XYZ')\n",
    "print(f'Desired rotation in VIMA-rf: {vima_angles}')\n",
    "\n",
    "rozum_quat = map_tf_repr(map_gripper_rf(vima_quat))\n",
    "rozum_angles = Rotation.from_quat(rozum_quat).as_euler('XYZ')\n",
    "print(f'Desired rotation in Rozum-rf: {rozum_angles}')"
   ]
  }
 ],
 "metadata": {
  "language_info": {
   "name": "python"
  },
  "orig_nbformat": 4
 },
 "nbformat": 4,
 "nbformat_minor": 2
}
