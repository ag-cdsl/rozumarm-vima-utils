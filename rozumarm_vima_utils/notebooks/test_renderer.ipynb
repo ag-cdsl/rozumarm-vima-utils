{
 "cells": [
  {
   "cell_type": "code",
   "execution_count": null,
   "metadata": {},
   "outputs": [],
   "source": [
    "import numpy as np\n",
    "import matplotlib.pyplot as plt\n",
    "from rozumarm_vima_utils.scene_renderer import VIMASceneRenderer\n",
    "from rozumarm_vima_utils.transform import rf_tf_c2r, map_tf_repr_c2r"
   ]
  },
  {
   "cell_type": "code",
   "execution_count": null,
   "metadata": {},
   "outputs": [],
   "source": [
    "N_SWEPT_OBJECTS = 2\n",
    "r = VIMASceneRenderer('sweep_without_exceeding')\n",
    "import sys\n",
    "sys.path.extend([\n",
    "    \"/home/daniil/code/rozumarm-vima/rozumarm_vima/rozumarm_vima_cv\",\n",
    "    \"/home/daniil/code/rozumarm-vima/rozumarm_vima/utils\",\n",
    "    \"/home/daniil/code/rozumarm-vima/rozumarm_vima/camera_utils\"\n",
    "])"
   ]
  },
  {
   "cell_type": "code",
   "execution_count": null,
   "metadata": {},
   "outputs": [],
   "source": [
    "from rozumarm_vima.detectors import detector"
   ]
  },
  {
   "cell_type": "code",
   "execution_count": null,
   "metadata": {},
   "outputs": [],
   "source": [
    "r.reset(exact_num_swept_objects=N_SWEPT_OBJECTS)\n",
    "\n",
    "n_cubes = -1\n",
    "while n_cubes != 2 * N_SWEPT_OBJECTS:\n",
    "    obj_posquats = detector.detect()\n",
    "    n_cubes = len(obj_posquats)\n",
    "\n",
    "# map from cam to rozum\n",
    "obj_posquats = [\n",
    "    (rf_tf_c2r(pos), map_tf_repr_c2r(quat)) for pos, quat in obj_posquats\n",
    "]\n",
    "\n",
    "front_img, top_img = r.render_scene(obj_posquats)"
   ]
  },
  {
   "cell_type": "code",
   "execution_count": null,
   "metadata": {},
   "outputs": [],
   "source": [
    "obs = r.env._get_obs()\n",
    "plt.imshow(np.transpose(obs['rgb']['top'], axes=(1, 2, 0)))"
   ]
  },
  {
   "cell_type": "markdown",
   "metadata": {},
   "source": [
    "### checking cube texture mapping"
   ]
  },
  {
   "cell_type": "code",
   "execution_count": null,
   "metadata": {},
   "outputs": [],
   "source": [
    "import matplotlib.pyplot as plt\n",
    "from rozumarm_vima_utils.scene_renderer import VIMASceneRenderer\n",
    "from rozumarm_vima_utils.transform import rf_tf_c2r, map_tf_repr_c2r\n",
    "from rozumarm_vima.detectors import detector\n",
    "cubes_detector = detector\n",
    "\n",
    "N_SWEPT_OBJECTS = 2"
   ]
  },
  {
   "cell_type": "code",
   "execution_count": null,
   "metadata": {},
   "outputs": [],
   "source": [
    "def prepare_sim_obs(detector, env_renderer):\n",
    "    n_cubes = -1\n",
    "    while n_cubes != 2 * N_SWEPT_OBJECTS:\n",
    "        obj_posquats = detector.detect()\n",
    "        n_cubes = len(obj_posquats)\n",
    "\n",
    "    # map from cam to rozum\n",
    "    obj_posquats = [\n",
    "        (rf_tf_c2r(pos), map_tf_repr_c2r(quat)) for pos, quat in obj_posquats\n",
    "    ]\n",
    "\n",
    "    env_renderer.render_scene(obj_posquats)\n",
    "    obs, *_ = env_renderer.env.step(action=None)\n",
    "\n",
    "    _, top_cam_image = detector.cam_1.read_image()\n",
    "    _, front_cam_image = detector.cam_2.read_image()\n",
    "    return obs, top_cam_image, front_cam_image"
   ]
  },
  {
   "cell_type": "code",
   "execution_count": null,
   "metadata": {},
   "outputs": [],
   "source": [
    "r = VIMASceneRenderer('sweep_without_exceeding')\n",
    "oracle = r.env.task.oracle(r.env)"
   ]
  },
  {
   "cell_type": "code",
   "execution_count": null,
   "metadata": {},
   "outputs": [],
   "source": [
    "n_episodes = 5\n",
    "\n",
    "real_images = []\n",
    "sim_images = []\n",
    "sim_images_after_swipes = []\n",
    "\n",
    "for i in range(n_episodes):\n",
    "    r.reset(exact_num_swept_objects=N_SWEPT_OBJECTS)\n",
    "    obs, top_cam_image, front_cam_image = prepare_sim_obs(cubes_detector, r)\n",
    "    real_images.append(top_cam_image)\n",
    "    sim_images.append(obs[\"rgb\"][\"top\"])\n",
    "\n",
    "    for _ in range(2):\n",
    "        action = oracle.act(obs)\n",
    "        next_obs, *_ = r.env.step(action)\n",
    "    sim_images_after_swipes.append(next_obs[\"rgb\"][\"top\"])"
   ]
  },
  {
   "cell_type": "code",
   "execution_count": null,
   "metadata": {},
   "outputs": [],
   "source": [
    "fig, axs = plt.subplots(n_episodes, 3, figsize=(12, 16))\n",
    "fig.subplots_adjust(wspace=0.1, hspace=0.1)\n",
    "\n",
    "for i in range(n_episodes):\n",
    "    axs[i, 0].axis('off')\n",
    "    axs[i, 0].imshow(real_images[i][::-1])\n",
    "\n",
    "    axs[i, 1].axis('off')\n",
    "    axs[i, 1].imshow(sim_images[i].transpose(1, 2, 0))\n",
    "\n",
    "    axs[i, 2].axis('off')\n",
    "    axs[i, 2].imshow(sim_images_after_swipes[i].transpose(1, 2, 0))\n",
    "\n",
    "\n",
    "axs[0, 0].set_title(\"real camera\")\n",
    "\n",
    "pad = 35\n",
    "axs[0, 1].set_title(\"sim camera, before swipes\", pad=pad)\n",
    "axs[0, 2].set_title(\"sim camera, after swipes\", pad=pad)\n",
    "\n",
    "fig.suptitle(\"The test of texture consistency over 5 episodes (shown as rows).\", y=0.925)"
   ]
  },
  {
   "cell_type": "code",
   "execution_count": null,
   "metadata": {},
   "outputs": [],
   "source": [
    "fig.savefig('cubes_texture_mapping.jpg', dpi=600, bbox_inches='tight')"
   ]
  }
 ],
 "metadata": {
  "kernelspec": {
   "display_name": "rozumarm-vima-utils",
   "language": "python",
   "name": "python3"
  },
  "language_info": {
   "codemirror_mode": {
    "name": "ipython",
    "version": 3
   },
   "file_extension": ".py",
   "mimetype": "text/x-python",
   "name": "python",
   "nbconvert_exporter": "python",
   "pygments_lexer": "ipython3",
   "version": "3.10.10"
  },
  "orig_nbformat": 4
 },
 "nbformat": 4,
 "nbformat_minor": 2
}
