{
 "cells": [
  {
   "cell_type": "code",
   "execution_count": null,
   "metadata": {},
   "outputs": [],
   "source": [
    "import numpy as np\n",
    "import matplotlib.pyplot as plt\n",
    "from rozumarm_vima_utils.scene_renderer import VIMASceneRenderer\n",
    "from rozumarm_vima_utils.transform import rf_tf_c2r, map_tf_repr_c2r"
   ]
  },
  {
   "cell_type": "code",
   "execution_count": null,
   "metadata": {},
   "outputs": [],
   "source": [
    "N_SWEPT_OBJECTS = 2\n",
    "r = VIMASceneRenderer('sweep_without_exceeding')\n",
    "import sys\n",
    "sys.path.extend([\n",
    "    \"/home/daniil/code/rozumarm-vima/rozumarm_vima/rozumarm_vima_cv\",\n",
    "    \"/home/daniil/code/rozumarm-vima/rozumarm_vima/utils\",\n",
    "    \"/home/daniil/code/rozumarm-vima/rozumarm_vima/camera_utils\"\n",
    "])"
   ]
  },
  {
   "cell_type": "code",
   "execution_count": null,
   "metadata": {},
   "outputs": [],
   "source": [
    "from rozumarm_vima.detectors import detector"
   ]
  },
  {
   "cell_type": "code",
   "execution_count": null,
   "metadata": {},
   "outputs": [],
   "source": [
    "r.reset(exact_num_swept_objects=N_SWEPT_OBJECTS)\n",
    "\n",
    "n_cubes = -1\n",
    "while n_cubes != 2 * N_SWEPT_OBJECTS:\n",
    "    obj_posquats = detector.detect()\n",
    "    n_cubes = len(obj_posquats)\n",
    "\n",
    "# map from cam to rozum\n",
    "obj_posquats = [\n",
    "    (rf_tf_c2r(pos), map_tf_repr_c2r(quat)) for pos, quat in obj_posquats\n",
    "]\n",
    "\n",
    "front_img, top_img = r.render_scene(obj_posquats)"
   ]
  },
  {
   "cell_type": "code",
   "execution_count": null,
   "metadata": {},
   "outputs": [],
   "source": [
    "obs = r.env._get_obs()\n",
    "plt.imshow(np.transpose(obs['rgb']['top'], axes=(1, 2, 0)))"
   ]
  }
 ],
 "metadata": {
  "kernelspec": {
   "display_name": "rozumarm-vima-utils",
   "language": "python",
   "name": "python3"
  },
  "language_info": {
   "codemirror_mode": {
    "name": "ipython",
    "version": 3
   },
   "file_extension": ".py",
   "mimetype": "text/x-python",
   "name": "python",
   "nbconvert_exporter": "python",
   "pygments_lexer": "ipython3",
   "version": "3.10.10"
  },
  "orig_nbformat": 4
 },
 "nbformat": 4,
 "nbformat_minor": 2
}
